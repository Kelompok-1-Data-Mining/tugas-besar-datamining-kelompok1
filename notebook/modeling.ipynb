{
  "nbformat": 4,
  "nbformat_minor": 0,
  "metadata": {
    "colab": {
      "provenance": []
    },
    "kernelspec": {
      "name": "python3",
      "display_name": "Python 3"
    },
    "language_info": {
      "name": "python"
    }
  },
  "cells": [
    {
      "cell_type": "code",
      "source": [
        "import pandas as pd\n",
        "import numpy as np\n",
        "import matplotlib.pyplot as plt\n",
        "from sklearn.preprocessing import MinMaxScaler\n",
        "from keras.models import Sequential\n",
        "from keras.layers import LSTM, Dense\n",
        "from sklearn.metrics import mean_absolute_error, mean_squared_error\n",
        "from statsmodels.tsa.arima.model import ARIMA\n",
        "import warnings\n",
        "warnings.filterwarnings(\"ignore\")"
      ],
      "metadata": {
        "id": "ytWRUquh1KPZ"
      },
      "execution_count": 7,
      "outputs": []
    },
    {
      "cell_type": "code",
      "source": [
        "# Load dataset\n",
        "df = pd.read_csv(\"avg_combined_dataset.csv\")\n",
        "df['year'] = pd.to_datetime(df['year'], format=\"%Y\")\n",
        "df = df.sort_values(by=['place_name', 'year'])"
      ],
      "metadata": {
        "id": "p1uM9OI10lgQ"
      },
      "execution_count": 8,
      "outputs": []
    },
    {
      "cell_type": "code",
      "source": [
        "predictions = []"
      ],
      "metadata": {
        "id": "T014qttW0oMI"
      },
      "execution_count": 9,
      "outputs": []
    },
    {
      "cell_type": "code",
      "source": [
        "# Loop per tempat wisata\n",
        "for place in df['place_name'].unique():\n",
        "    df_place = df[df['place_name'] == place].copy()\n",
        "\n",
        "    if len(df_place) < 3:\n",
        "        print(f\"Tempat '{place}' dilewati karena jumlah data < 3.\")\n",
        "        continue\n",
        "\n",
        "    data_ts = df_place[['total_visitor']].values\n",
        "    scaler = MinMaxScaler()\n",
        "    data_scaled = scaler.fit_transform(data_ts)\n",
        "\n",
        "    # ===== LSTM SECTION =====\n",
        "    def create_sequences(data, n_steps=2):\n",
        "        X, y = [], []\n",
        "        for i in range(len(data) - n_steps):\n",
        "            X.append(data[i:i+n_steps])\n",
        "            y.append(data[i+n_steps])\n",
        "        return np.array(X), np.array(y)\n",
        "\n",
        "    n_steps = 2\n",
        "    X, y = create_sequences(data_scaled, n_steps)\n",
        "\n",
        "    if len(X) == 0:\n",
        "        print(f\"Tempat '{place}' dilewati karena data kurang untuk sequence.\")\n",
        "        continue\n",
        "\n",
        "    X = X.reshape((X.shape[0], X.shape[1], 1))\n",
        "\n",
        "    model = Sequential()\n",
        "    model.add(LSTM(64, activation='relu', input_shape=(n_steps, 1)))\n",
        "    model.add(Dense(1))\n",
        "    model.compile(optimizer='adam', loss='mse')\n",
        "    model.fit(X, y, epochs=200, verbose=0)\n",
        "\n",
        "    last_sequence = data_scaled[-n_steps:].reshape((1, n_steps, 1))\n",
        "    next_pred_scaled = model.predict(last_sequence)\n",
        "    next_pred_lstm = scaler.inverse_transform(next_pred_scaled)[0][0]\n",
        "\n",
        "    y_pred_lstm = scaler.inverse_transform(model.predict(X))\n",
        "    y_true = scaler.inverse_transform(y)\n",
        "\n",
        "    mae_lstm = mean_absolute_error(y_true, y_pred_lstm)\n",
        "    rmse_lstm = np.sqrt(mean_squared_error(y_true, y_pred_lstm))\n",
        "    mape_lstm = np.mean(np.abs((y_true - y_pred_lstm) / y_true)) * 100\n",
        "\n",
        "    # ===== ARIMA SECTION =====\n",
        "    try:\n",
        "        arima_model = ARIMA(df_place['total_visitor'], order=(2, 1, 0))\n",
        "        arima_fit = arima_model.fit()\n",
        "        forecast_arima = arima_fit.forecast(steps=1)\n",
        "        next_pred_arima = forecast_arima.iloc[0]\n",
        "\n",
        "        y_pred_arima = arima_fit.predict(start=1, end=len(df_place)-1, typ='levels')\n",
        "        y_true_arima = df_place['total_visitor'].values[1:]\n",
        "\n",
        "        mae_arima = mean_absolute_error(y_true_arima, y_pred_arima)\n",
        "        rmse_arima = np.sqrt(mean_squared_error(y_true_arima, y_pred_arima))\n",
        "        mape_arima = np.mean(np.abs((y_true_arima - y_pred_arima) / y_true_arima)) * 100\n",
        "    except:\n",
        "        print(f\"ARIMA gagal untuk tempat '{place}'.\")\n",
        "        next_pred_arima = np.nan\n",
        "        mae_arima = rmse_arima = mape_arima = np.nan\n",
        "\n",
        "    year_next = df_place['year'].dt.year.max() + 1\n",
        "    avg_rating = df_place[\"avg_rating\"].mean()\n",
        "\n",
        "    predictions.append({\n",
        "        'place_name': place,\n",
        "        'predicted_year': year_next,\n",
        "        'predicted_visitors_lstm': int(next_pred_lstm),\n",
        "        'predicted_visitors_arima': int(next_pred_arima) if not np.isnan(next_pred_arima) else None,\n",
        "        'avg_rating': round(avg_rating, 2),\n",
        "        'MAE_LSTM': round(mae_lstm, 2),\n",
        "        'RMSE_LSTM': round(rmse_lstm, 2),\n",
        "        'MAPE_LSTM': round(mape_lstm, 2),\n",
        "        'MAE_ARIMA': round(mae_arima, 2) if not np.isnan(mae_arima) else None,\n",
        "        'RMSE_ARIMA': round(rmse_arima, 2) if not np.isnan(rmse_arima) else None,\n",
        "        'MAPE_ARIMA': round(mape_arima, 2) if not np.isnan(mape_arima) else None,\n",
        "    })\n"
      ],
      "metadata": {
        "colab": {
          "base_uri": "https://localhost:8080/"
        },
        "id": "io6zMb3n006o",
        "outputId": "bc6ebf34-4788-4f99-edff-215721f455aa"
      },
      "execution_count": 10,
      "outputs": [
        {
          "output_type": "stream",
          "name": "stdout",
          "text": [
            "\u001b[1m1/1\u001b[0m \u001b[32m━━━━━━━━━━━━━━━━━━━━\u001b[0m\u001b[37m\u001b[0m \u001b[1m0s\u001b[0m 178ms/step\n",
            "\u001b[1m1/1\u001b[0m \u001b[32m━━━━━━━━━━━━━━━━━━━━\u001b[0m\u001b[37m\u001b[0m \u001b[1m0s\u001b[0m 182ms/step\n",
            "Tempat 'desa wisata duren sari sawahan' dilewati karena jumlah data < 3.\n",
            "Tempat 'desa wisata pandean dongko' dilewati karena jumlah data < 3.\n",
            "\u001b[1m1/1\u001b[0m \u001b[32m━━━━━━━━━━━━━━━━━━━━\u001b[0m\u001b[37m\u001b[0m \u001b[1m0s\u001b[0m 182ms/step\n",
            "\u001b[1m1/1\u001b[0m \u001b[32m━━━━━━━━━━━━━━━━━━━━\u001b[0m\u001b[37m\u001b[0m \u001b[1m0s\u001b[0m 186ms/step\n",
            "\u001b[1m1/1\u001b[0m \u001b[32m━━━━━━━━━━━━━━━━━━━━\u001b[0m\u001b[37m\u001b[0m \u001b[1m0s\u001b[0m 188ms/step\n",
            "\u001b[1m1/1\u001b[0m \u001b[32m━━━━━━━━━━━━━━━━━━━━\u001b[0m\u001b[37m\u001b[0m \u001b[1m0s\u001b[0m 38ms/step\n",
            "\u001b[1m1/1\u001b[0m \u001b[32m━━━━━━━━━━━━━━━━━━━━\u001b[0m\u001b[37m\u001b[0m \u001b[1m0s\u001b[0m 186ms/step\n",
            "\u001b[1m1/1\u001b[0m \u001b[32m━━━━━━━━━━━━━━━━━━━━\u001b[0m\u001b[37m\u001b[0m \u001b[1m0s\u001b[0m 34ms/step\n",
            "\u001b[1m1/1\u001b[0m \u001b[32m━━━━━━━━━━━━━━━━━━━━\u001b[0m\u001b[37m\u001b[0m \u001b[1m0s\u001b[0m 179ms/step\n",
            "\u001b[1m1/1\u001b[0m \u001b[32m━━━━━━━━━━━━━━━━━━━━\u001b[0m\u001b[37m\u001b[0m \u001b[1m0s\u001b[0m 43ms/step\n",
            "\u001b[1m1/1\u001b[0m \u001b[32m━━━━━━━━━━━━━━━━━━━━\u001b[0m\u001b[37m\u001b[0m \u001b[1m0s\u001b[0m 254ms/step\n",
            "\u001b[1m1/1\u001b[0m \u001b[32m━━━━━━━━━━━━━━━━━━━━\u001b[0m\u001b[37m\u001b[0m \u001b[1m0s\u001b[0m 49ms/step\n",
            "Tempat 'kolam renang sumber agung' dilewati karena jumlah data < 3.\n",
            "\u001b[1m1/1\u001b[0m \u001b[32m━━━━━━━━━━━━━━━━━━━━\u001b[0m\u001b[37m\u001b[0m \u001b[1m0s\u001b[0m 215ms/step\n",
            "\u001b[1m1/1\u001b[0m \u001b[32m━━━━━━━━━━━━━━━━━━━━\u001b[0m\u001b[37m\u001b[0m \u001b[1m0s\u001b[0m 48ms/step\n",
            "Tempat 'pantai kebo' dilewati karena jumlah data < 3.\n",
            "\u001b[1m1/1\u001b[0m \u001b[32m━━━━━━━━━━━━━━━━━━━━\u001b[0m\u001b[37m\u001b[0m \u001b[1m0s\u001b[0m 256ms/step\n",
            "\u001b[1m1/1\u001b[0m \u001b[32m━━━━━━━━━━━━━━━━━━━━\u001b[0m\u001b[37m\u001b[0m \u001b[1m0s\u001b[0m 50ms/step\n",
            "\u001b[1m1/1\u001b[0m \u001b[32m━━━━━━━━━━━━━━━━━━━━\u001b[0m\u001b[37m\u001b[0m \u001b[1m0s\u001b[0m 257ms/step\n",
            "\u001b[1m1/1\u001b[0m \u001b[32m━━━━━━━━━━━━━━━━━━━━\u001b[0m\u001b[37m\u001b[0m \u001b[1m0s\u001b[0m 58ms/step\n",
            "\u001b[1m1/1\u001b[0m \u001b[32m━━━━━━━━━━━━━━━━━━━━\u001b[0m\u001b[37m\u001b[0m \u001b[1m1s\u001b[0m 1s/step\n",
            "\u001b[1m1/1\u001b[0m \u001b[32m━━━━━━━━━━━━━━━━━━━━\u001b[0m\u001b[37m\u001b[0m \u001b[1m0s\u001b[0m 47ms/step\n",
            "Tempat 'phd nusantara' dilewati karena jumlah data < 3.\n",
            "\u001b[1m1/1\u001b[0m \u001b[32m━━━━━━━━━━━━━━━━━━━━\u001b[0m\u001b[37m\u001b[0m \u001b[1m0s\u001b[0m 207ms/step\n",
            "\u001b[1m1/1\u001b[0m \u001b[32m━━━━━━━━━━━━━━━━━━━━\u001b[0m\u001b[37m\u001b[0m \u001b[1m0s\u001b[0m 38ms/step\n",
            "\u001b[1m1/1\u001b[0m \u001b[32m━━━━━━━━━━━━━━━━━━━━\u001b[0m\u001b[37m\u001b[0m \u001b[1m0s\u001b[0m 191ms/step\n",
            "\u001b[1m1/1\u001b[0m \u001b[32m━━━━━━━━━━━━━━━━━━━━\u001b[0m\u001b[37m\u001b[0m \u001b[1m0s\u001b[0m 188ms/step\n",
            "\u001b[1m1/1\u001b[0m \u001b[32m━━━━━━━━━━━━━━━━━━━━\u001b[0m\u001b[37m\u001b[0m \u001b[1m0s\u001b[0m 178ms/step\n",
            "\u001b[1m1/1\u001b[0m \u001b[32m━━━━━━━━━━━━━━━━━━━━\u001b[0m\u001b[37m\u001b[0m \u001b[1m0s\u001b[0m 184ms/step\n",
            "\u001b[1m1/1\u001b[0m \u001b[32m━━━━━━━━━━━━━━━━━━━━\u001b[0m\u001b[37m\u001b[0m \u001b[1m0s\u001b[0m 179ms/step\n",
            "\u001b[1m1/1\u001b[0m \u001b[32m━━━━━━━━━━━━━━━━━━━━\u001b[0m\u001b[37m\u001b[0m \u001b[1m0s\u001b[0m 35ms/step\n",
            "\u001b[1m1/1\u001b[0m \u001b[32m━━━━━━━━━━━━━━━━━━━━\u001b[0m\u001b[37m\u001b[0m \u001b[1m0s\u001b[0m 184ms/step\n",
            "\u001b[1m1/1\u001b[0m \u001b[32m━━━━━━━━━━━━━━━━━━━━\u001b[0m\u001b[37m\u001b[0m \u001b[1m0s\u001b[0m 191ms/step\n",
            "\u001b[1m1/1\u001b[0m \u001b[32m━━━━━━━━━━━━━━━━━━━━\u001b[0m\u001b[37m\u001b[0m \u001b[1m0s\u001b[0m 192ms/step\n",
            "\u001b[1m1/1\u001b[0m \u001b[32m━━━━━━━━━━━━━━━━━━━━\u001b[0m\u001b[37m\u001b[0m \u001b[1m0s\u001b[0m 34ms/step\n",
            "\u001b[1m1/1\u001b[0m \u001b[32m━━━━━━━━━━━━━━━━━━━━\u001b[0m\u001b[37m\u001b[0m \u001b[1m0s\u001b[0m 173ms/step\n",
            "\u001b[1m1/1\u001b[0m \u001b[32m━━━━━━━━━━━━━━━━━━━━\u001b[0m\u001b[37m\u001b[0m \u001b[1m0s\u001b[0m 34ms/step\n"
          ]
        }
      ]
    },
    {
      "cell_type": "code",
      "source": [
        "# Konversi ke DataFrame\n",
        "df_pred = pd.DataFrame(predictions)"
      ],
      "metadata": {
        "id": "og5AmOzJ024Q"
      },
      "execution_count": 11,
      "outputs": []
    },
    {
      "cell_type": "code",
      "source": [
        "\n",
        "# Normalisasi skor visitor dan rating berdasarkan prediksi LSTM\n",
        "scaler = MinMaxScaler()\n",
        "df_pred[\"scaled_visitors\"] = scaler.fit_transform(df_pred[[\"predicted_visitors_lstm\"]])\n",
        "df_pred[\"scaled_rating\"] = scaler.fit_transform(df_pred[[\"avg_rating\"]])"
      ],
      "metadata": {
        "id": "7afdX7A30404"
      },
      "execution_count": 13,
      "outputs": []
    },
    {
      "cell_type": "code",
      "source": [
        "# Hitung skor gabungan (bobot 70% visitor, 30% rating)\n",
        "df_pred[\"popularity_score\"] = 0.7 * df_pred[\"scaled_visitors\"] + 0.3 * df_pred[\"scaled_rating\"]"
      ],
      "metadata": {
        "id": "kt64jNTb07CI"
      },
      "execution_count": 14,
      "outputs": []
    },
    {
      "cell_type": "code",
      "source": [
        "# Urutkan dari skor terbaik\n",
        "df_ranked = df_pred.sort_values(by=\"popularity_score\", ascending=False)"
      ],
      "metadata": {
        "id": "KKn0KB6k0_2I"
      },
      "execution_count": 15,
      "outputs": []
    },
    {
      "cell_type": "code",
      "source": [
        "# Ambil 5 besar\n",
        "top5 = df_ranked.head(5)\n",
        "\n",
        "print(\"\\nTop 5 Tempat Wisata Berdasarkan Prediksi (LSTM) dan Rating:\")\n",
        "print(top5[[\"place_name\", \"predicted_visitors_lstm\", \"predicted_visitors_arima\",\n",
        "            \"avg_rating\", \"MAE_LSTM\", \"RMSE_LSTM\", \"MAPE_LSTM\",\n",
        "            \"MAE_ARIMA\", \"RMSE_ARIMA\", \"MAPE_ARIMA\", \"popularity_score\"]])"
      ],
      "metadata": {
        "colab": {
          "base_uri": "https://localhost:8080/"
        },
        "id": "Ut9mM8hR1ARg",
        "outputId": "55d4a596-c154-41ed-be88-36eaa5a144f6"
      },
      "execution_count": 21,
      "outputs": [
        {
          "output_type": "stream",
          "name": "stdout",
          "text": [
            "\n",
            "Top 5 Tempat Wisata Berdasarkan Prediksi (LSTM) dan Rating:\n",
            "                   place_name  predicted_visitors_lstm  \\\n",
            "14         taman impian ancol                 11011633   \n",
            "1                 dufan ancol                  2362699   \n",
            "12             seaworld ancol                  1271066   \n",
            "6         pantai karanggongso                   606511   \n",
            "7   pantai mutiara trenggalek                   733784   \n",
            "\n",
            "    predicted_visitors_arima  avg_rating     MAE_LSTM    RMSE_LSTM  MAPE_LSTM  \\\n",
            "14                   5841634        4.60 1,154,734.33 1,258,509.31      11.89   \n",
            "1                    1896715        4.56    82,403.37    99,440.08       3.72   \n",
            "12                    642718        4.58   131,544.71   147,080.38      10.91   \n",
            "6                     505751        4.54       867.66       867.66       0.22   \n",
            "7                     892842        4.47       661.12       661.12       0.15   \n",
            "\n",
            "      MAE_ARIMA   RMSE_ARIMA  MAPE_ARIMA  popularity_score  \n",
            "14 3,137,674.08 4,574,118.55       48.19              1.00  \n",
            "1    947,639.48 1,194,919.78       52.89              0.43  \n",
            "12   403,441.77   543,223.66       47.90              0.37  \n",
            "6     27,605.00    39,024.24       11.56              0.32  \n",
            "7    126,811.22   150,482.61       41.40              0.30  \n"
          ]
        }
      ]
    }
  ]
}