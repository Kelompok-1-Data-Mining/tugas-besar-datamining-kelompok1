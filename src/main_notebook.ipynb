{
 "cells": [
  {
   "cell_type": "code",
   "execution_count": null,
   "id": "2a4aa93c",
   "metadata": {},
   "outputs": [],
   "source": [
    "import pandas as pd\n",
    "import numpy as np\n",
    "import matplotlib.pyplot as plt\n",
    "from sklearn.preprocessing import MinMaxScaler\n",
    "from sklearn.metrics import mean_squared_error\n",
    "from tensorflow.keras.models import Sequential\n",
    "from tensorflow.keras.layers import LSTM, Dense\n",
    "from statsmodels.tsa.arima.model import ARIMA"
   ]
  },
  {
   "cell_type": "code",
   "execution_count": null,
   "id": "855edabe",
   "metadata": {},
   "outputs": [],
   "source": [
    "# 2. Load dataset\n",
    "df = pd.read_csv('../data/processed/avg_combined_dataset.csv')\n",
    "df = df.sort_values(by=['place_name', 'year']).reset_index(drop=True)\n",
    "df.head()"
   ]
  },
  {
   "cell_type": "code",
   "execution_count": null,
   "id": "ccd91546",
   "metadata": {},
   "outputs": [],
   "source": [
    "plt.figure(figsize=(10, 4))\n",
    "for place in df['place_name'].unique():\n",
    "    subset = df[df['place_name'] == place]\n",
    "    plt.plot(subset['year'], subset['total_visitor'], marker='o', label=place)\n",
    "\n",
    "plt.title(\"Total Visitor per Place Over Years\")\n",
    "plt.xlabel(\"Year\")\n",
    "plt.ylabel(\"Total Visitor\")\n",
    "plt.legend()\n",
    "plt.grid(True)\n",
    "plt.show()"
   ]
  },
  {
   "cell_type": "code",
   "execution_count": null,
   "id": "44a989d4",
   "metadata": {},
   "outputs": [],
   "source": [
    "# 5. Modeling ARIMA + LSTM per tempat wisata\n",
    "results = []\n",
    "\n",
    "for place in df['place_name'].unique():\n",
    "    print(f\"\\n=== Modeling: {place.upper()} ===\")\n",
    "    data = df[df['place_name'] == place].copy()\n",
    "    series = data['total_visitor'].values\n",
    "    years = data['year'].values\n",
    "\n",
    "    ## ------------------------ ARIMA ------------------------\n",
    "    model_arima = ARIMA(series, order=(1, 1, 1))\n",
    "    fit_arima = model_arima.fit()\n",
    "    forecast_arima = fit_arima.forecast(steps=1)\n",
    "    print(f\"ARIMA Forecast 2025: {int(forecast_arima[0])}\")\n",
    "\n",
    "    ## ------------------------ LSTM ------------------------\n",
    "    scaler = MinMaxScaler()\n",
    "    scaled_series = scaler.fit_transform(series.reshape(-1, 1))\n",
    "\n",
    "    X_lstm, y_lstm = create_lstm_dataset(scaled_series, n_steps=2)\n",
    "    X_lstm = X_lstm.reshape((X_lstm.shape[0], X_lstm.shape[1], 1))\n",
    "\n",
    "    model_lstm = Sequential()\n",
    "    model_lstm.add(LSTM(50, activation='relu', input_shape=(2, 1)))\n",
    "    model_lstm.add(Dense(1))\n",
    "    model_lstm.compile(optimizer='adam', loss='mse')\n",
    "    model_lstm.fit(X_lstm, y_lstm, epochs=200, verbose=0)\n",
    "\n",
    "    # Predict next step (2025)\n",
    "    last_steps = scaled_series[-2:].reshape((1, 2, 1))\n",
    "    pred_scaled = model_lstm.predict(last_steps, verbose=0)\n",
    "    forecast_lstm = scaler.inverse_transform(pred_scaled)[0][0]\n",
    "    print(f\"LSTM Forecast 2025: {int(forecast_lstm)}\")\n",
    "\n",
    "    # Simpan hasil\n",
    "    results.append({\n",
    "        'place_name': place,\n",
    "        'arima_2025': int(forecast_arima[0]),\n",
    "        'lstm_2025': int(forecast_lstm)\n",
    "    })\n"
   ]
  },
  {
   "cell_type": "code",
   "execution_count": null,
   "id": "681ba1ec",
   "metadata": {},
   "outputs": [],
   "source": [
    "def create_sequence(data, step=3):\n",
    "    X, y = [], []\n",
    "    for i in range(len(data) - step):\n",
    "        X.append(data[i:i+step])\n",
    "        y.append(data[i+step])\n",
    "    return np.array(X), np.array(y)\n",
    "\n",
    "sequence_step = 3\n",
    "X, y = create_sequence(scaled_data, sequence_step)"
   ]
  },
  {
   "cell_type": "code",
   "execution_count": null,
   "id": "be565aef",
   "metadata": {},
   "outputs": [],
   "source": [
    "# 6. Tampilkan hasil gabungan\n",
    "forecast_df = pd.DataFrame(results)\n",
    "forecast_df"
   ]
  }
 ],
 "metadata": {
  "kernelspec": {
   "display_name": "Python 3",
   "language": "python",
   "name": "python3"
  },
  "language_info": {
   "codemirror_mode": {
    "name": "ipython",
    "version": 3
   },
   "file_extension": ".py",
   "mimetype": "text/x-python",
   "name": "python",
   "nbconvert_exporter": "python",
   "pygments_lexer": "ipython3",
   "version": "3.11.5"
  }
 },
 "nbformat": 4,
 "nbformat_minor": 5
}
