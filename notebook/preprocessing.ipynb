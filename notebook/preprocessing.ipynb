{
  "nbformat": 4,
  "nbformat_minor": 0,
  "metadata": {
    "colab": {
      "provenance": []
    },
    "kernelspec": {
      "name": "python3",
      "display_name": "Python 3"
    },
    "language_info": {
      "name": "python"
    }
  },
  "cells": [
    {
      "cell_type": "code",
      "execution_count": null,
      "metadata": {
        "id": "a8UmNF8aMPsG"
      },
      "outputs": [],
      "source": [
        "import pandas as pd\n",
        "import re"
      ]
    },
    {
      "cell_type": "code",
      "source": [
        "df = pd.read_csv(\"Review_pantai_pelang.csv\")"
      ],
      "metadata": {
        "id": "dGH0keAS_aNJ"
      },
      "execution_count": null,
      "outputs": []
    },
    {
      "cell_type": "code",
      "source": [
        "print(\"Kolom tersedia:\", df.columns.tolist())"
      ],
      "metadata": {
        "colab": {
          "base_uri": "https://localhost:8080/"
        },
        "id": "bTPugqJE_dRq",
        "outputId": "f6e76f7d-363e-445a-f29d-b9096f816fa6"
      },
      "execution_count": null,
      "outputs": [
        {
          "output_type": "stream",
          "name": "stdout",
          "text": [
            "Kolom tersedia: ['name', 'review_text', 'review_rating', 'review_datetime_utc']\n"
          ]
        }
      ]
    },
    {
      "cell_type": "code",
      "source": [
        "text_column = 'review_text'\n",
        "df['review_text'] = df['review_text'].astype(str)"
      ],
      "metadata": {
        "id": "3jtnzLZ1_d2Z"
      },
      "execution_count": null,
      "outputs": []
    },
    {
      "cell_type": "code",
      "source": [
        "# Hapus baris nilai kosong\n",
        "df = df.dropna(subset=['review_text'])\n",
        "df = df[df['review_text'].str.strip() != '']"
      ],
      "metadata": {
        "id": "0oKltISI_gup"
      },
      "execution_count": null,
      "outputs": []
    },
    {
      "cell_type": "code",
      "source": [
        "# Hapus baris yang duplikat review_text\n",
        "df = df.drop_duplicates(subset=text_column)"
      ],
      "metadata": {
        "id": "1OQdFabp_htQ"
      },
      "execution_count": null,
      "outputs": []
    },
    {
      "cell_type": "code",
      "source": [
        "# Fungsi untuk membersihkan teks\n",
        "def clean_text(text):\n",
        "    text = str(text).lower() # mengubah teks menjadi lowercase\n",
        "    text = re.sub(r'[^\\x00-\\x7F]+', ' ', text) # menghapus karakter non-ASCII\n",
        "    text = re.sub(r'http\\S+|www\\S+|https\\S+', '', text, flags=re.MULTILINE) # menghapus URL\n",
        "    text = re.sub(r'@\\w+|#\\w+', '', text) # menghapus mention dan hastag\n",
        "    text = re.sub(r'[^\\w\\s]', '', text) # menghapus simbol\n",
        "    text = re.sub(r'\\d+', '', text) # menghapus angka\n",
        "    text = re.sub(r'\\s+', ' ', text).strip() # menghapus spasi berlebih\n",
        "    return text"
      ],
      "metadata": {
        "id": "2wmJx2L7_jFg"
      },
      "execution_count": null,
      "outputs": []
    },
    {
      "cell_type": "code",
      "source": [
        "df[text_column] = df[text_column].apply(clean_text)"
      ],
      "metadata": {
        "id": "JpiYYlf7_lAR"
      },
      "execution_count": null,
      "outputs": []
    },
    {
      "cell_type": "code",
      "source": [
        "df.to_csv('review_pantai_pelang_cln.csv', index=False, encoding='utf-8')"
      ],
      "metadata": {
        "id": "cglyrdr1_o5o"
      },
      "execution_count": null,
      "outputs": []
    }
  ]
}